{
 "cells": [
  {
   "cell_type": "markdown",
   "metadata": {},
   "source": [
    "# Data-爬虫-03 静态页面抓取\n",
    "  网站：[豆瓣读书 Top 250](https://book.douban.com/top250)"
   ]
  },
  {
   "cell_type": "code",
   "execution_count": 17,
   "metadata": {},
   "outputs": [
    {
     "name": "stdout",
     "output_type": "stream",
     "text": [
      "页面: 0 ; 状态: 200\n",
      "页面: 1 ; 状态: 200\n",
      "页面: 2 ; 状态: 200\n",
      "页面: 3 ; 状态: 200\n",
      "页面: 4 ; 状态: 200\n",
      "页面: 5 ; 状态: 200\n",
      "页面: 6 ; 状态: 200\n",
      "页面: 7 ; 状态: 200\n",
      "页面: 8 ; 状态: 200\n",
      "页面: 9 ; 状态: 200\n",
      "完成\n"
     ]
    }
   ],
   "source": [
    "import requests\n",
    "from bs4 import BeautifulSoup\n",
    "\n",
    "def get_books():\n",
    "# 1. 获取页面\n",
    "    headers = {\n",
    "        'user-agent': 'Mozilla/5.0 (Macintosh; Intel Mac OS X 10_15_4) AppleWebKit/605.1.15 (KHTML, like Gecko) Version/13.1 Safari/605.1.15',\n",
    "        'Host': 'book.douban.com'\n",
    "    }\n",
    "    \n",
    "    book_list = []\n",
    "    \n",
    "    for i in range(0,10):\n",
    "        url = 'https://book.douban.com/top250?start='+str(i*25)\n",
    "        response = requests.get(url, headers=headers, timeout=15)\n",
    "        print('页面:', str(i), '; 状态:', response.status_code)\n",
    "        \n",
    "# 2. 解析页面\n",
    "        soup = BeautifulSoup(response.text, \"lxml\")\n",
    "        title_list = soup.find_all('div', class_='pl2')\n",
    "        for title in title_list:\n",
    "            #删除空格、换行，由于小标题的存在，导致有的书名中间出现换行和空格\n",
    "            book = title.a.text.strip().replace('\\n','').replace(' ','')\n",
    "            book_list.append(book)\n",
    "            \n",
    "# 3. 写入文件\n",
    "    with open('03_books.txt','a+') as f:\n",
    "        for book in book_list:\n",
    "            f.write(book+'\\n')\n",
    "            \n",
    "    return \n",
    "\n",
    "get_books()\n",
    "print('完成')"
   ]
  },
  {
   "cell_type": "code",
   "execution_count": null,
   "metadata": {},
   "outputs": [],
   "source": []
  }
 ],
 "metadata": {
  "kernelspec": {
   "display_name": "Python [conda env:data_env_37]",
   "language": "python",
   "name": "conda-env-data_env_37-py"
  },
  "language_info": {
   "codemirror_mode": {
    "name": "ipython",
    "version": 3
   },
   "file_extension": ".py",
   "mimetype": "text/x-python",
   "name": "python",
   "nbconvert_exporter": "python",
   "pygments_lexer": "ipython3",
   "version": "3.7.7"
  }
 },
 "nbformat": 4,
 "nbformat_minor": 4
}
