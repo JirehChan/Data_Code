{
 "cells": [
  {
   "cell_type": "markdown",
   "metadata": {},
   "source": [
    "# Data-爬虫-04 动态页面抓取"
   ]
  },
  {
   "cell_type": "markdown",
   "metadata": {},
   "source": [
    "## 1. 解析真实地址"
   ]
  },
  {
   "cell_type": "code",
   "execution_count": 10,
   "metadata": {},
   "outputs": [
    {
     "name": "stdout",
     "output_type": "stream",
     "text": [
      "页面: 2 ; 状态 200\n",
      "页面: 3 ; 状态 200\n",
      "页面: 4 ; 状态 200\n",
      "完成\n"
     ]
    }
   ],
   "source": [
    "#导入库\n",
    "import requests\n",
    "import json\n",
    "\n",
    "messages = []\n",
    "#1. 获取页面\n",
    "headers = {'user-agent': 'Mozilla/5.0 (Macintosh; Intel Mac OS X 10_15_4) AppleWebKit/605.1.15 (KHTML, like Gecko) Version/13.1 Safari/605.1.15'}\n",
    "\n",
    "for i in range(1,4):\n",
    "    url = 'https://api-zero.livere.com/v1/comments/list?callback=jQuery1124004614198129784364_1586852914458&limit=10&offset='\\\n",
    "        +str(i)+'&repSeq=4272904&requestPath=%2Fv1%2Fcomments%2Flist&consumerSeq=1020&livereSeq=28583&smartloginSeq=5154&code=&_=1586852914467'\n",
    "    response = requests.get(url, headers=headers, timeout=15)\n",
    "    print('页面:',str(i+1),'; 状态',response.status_code)\n",
    "    \n",
    "#2. 解析页面\n",
    "    json_string = response.text\n",
    "    json_string = json_string[json_string.find('{'):-2] #从第一个{提取，最后两个字符}和;不取\n",
    "    \n",
    "    json_data = json.loads(json_string)\n",
    "    comment_list = json_data['results']['parents'] #JSON最头上有这两个标志，图片没显示，可以自行看\n",
    "    \n",
    "    for comment in comment_list:\n",
    "        messages.append(comment['content'].strip()) \n",
    "\n",
    "#3. 写入文件\n",
    "with open('04_comments_1.txt','a+') as f:\n",
    "    for message in messages:\n",
    "        f.write(message+'\\n-----------------------------\\n')\n",
    "        \n",
    "print('完成')"
   ]
  },
  {
   "cell_type": "markdown",
   "metadata": {},
   "source": [
    "## 2. 模拟浏览器抓取"
   ]
  },
  {
   "cell_type": "code",
   "execution_count": 55,
   "metadata": {},
   "outputs": [
    {
     "ename": "AttributeError",
     "evalue": "module 'selenium.webdriver' has no attribute 'SafariProfile'",
     "output_type": "error",
     "traceback": [
      "\u001b[0;31m---------------------------------------------------------------------------\u001b[0m",
      "\u001b[0;31mAttributeError\u001b[0m                            Traceback (most recent call last)",
      "\u001b[0;32m<ipython-input-55-ee832f0d8e95>\u001b[0m in \u001b[0;36m<module>\u001b[0;34m\u001b[0m\n\u001b[1;32m      3\u001b[0m \u001b[0;32mimport\u001b[0m \u001b[0mtime\u001b[0m\u001b[0;34m\u001b[0m\u001b[0;34m\u001b[0m\u001b[0m\n\u001b[1;32m      4\u001b[0m \u001b[0;34m\u001b[0m\u001b[0m\n\u001b[0;32m----> 5\u001b[0;31m \u001b[0mfp\u001b[0m \u001b[0;34m=\u001b[0m\u001b[0mwebdriver\u001b[0m\u001b[0;34m.\u001b[0m\u001b[0mSafariProfile\u001b[0m\u001b[0;34m(\u001b[0m\u001b[0;34m)\u001b[0m\u001b[0;34m\u001b[0m\u001b[0;34m\u001b[0m\u001b[0m\n\u001b[0m\u001b[1;32m      6\u001b[0m \u001b[0mfp\u001b[0m\u001b[0;34m.\u001b[0m\u001b[0mset_preference\u001b[0m\u001b[0;34m(\u001b[0m\u001b[0;34m\"permissions.default.image\"\u001b[0m\u001b[0;34m,\u001b[0m\u001b[0;36m2\u001b[0m\u001b[0;34m)\u001b[0m\u001b[0;34m\u001b[0m\u001b[0;34m\u001b[0m\u001b[0m\n\u001b[1;32m      7\u001b[0m \u001b[0mdriver\u001b[0m \u001b[0;34m=\u001b[0m \u001b[0mwebdriver\u001b[0m\u001b[0;34m.\u001b[0m\u001b[0mSafari\u001b[0m\u001b[0;34m(\u001b[0m\u001b[0msafari_profile\u001b[0m\u001b[0;34m=\u001b[0m\u001b[0mfp\u001b[0m\u001b[0;34m)\u001b[0m\u001b[0;34m\u001b[0m\u001b[0;34m\u001b[0m\u001b[0m\n",
      "\u001b[0;31mAttributeError\u001b[0m: module 'selenium.webdriver' has no attribute 'SafariProfile'"
     ]
    }
   ],
   "source": [
    "#导入库\n",
    "from selenium import webdriver\n",
    "import time\n",
    "\n",
    "driver = webdriver.Safari()\n",
    "\n",
    "print('打开网页')\n",
    "driver.get(\"http://www.santostang.com/2018/07/04/hello-world/\")\n",
    "time.sleep(5)\n",
    "\n",
    "print('下滑到底部')\n",
    "driver.execute_script(\"window.scrollTo(0, document.body.scrollHeight);\")\n",
    "\n",
    "print('获取数据')\n",
    "driver.switch_to.frame(driver.find_element_by_css_selector(\"iframe[title='livere']\"))\n",
    "comments = driver.find_elements_by_css_selector('div.reply-content')\n",
    "for eachcomment in comments:\n",
    "    content = eachcomment.find_element_by_tag_name('p')\n",
    "    print (content.text)\n",
    "\n",
    "driver.close()\n"
   ]
  }
 ],
 "metadata": {
  "kernelspec": {
   "display_name": "Python [conda env:data_env_37]",
   "language": "python",
   "name": "conda-env-data_env_37-py"
  },
  "language_info": {
   "codemirror_mode": {
    "name": "ipython",
    "version": 3
   },
   "file_extension": ".py",
   "mimetype": "text/x-python",
   "name": "python",
   "nbconvert_exporter": "python",
   "pygments_lexer": "ipython3",
   "version": "3.7.7"
  }
 },
 "nbformat": 4,
 "nbformat_minor": 4
}
