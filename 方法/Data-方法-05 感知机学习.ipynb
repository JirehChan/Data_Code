{
 "cells": [
  {
   "cell_type": "markdown",
   "metadata": {},
   "source": [
    "# Data-方法-05 感知机学习"
   ]
  },
  {
   "cell_type": "markdown",
   "metadata": {},
   "source": [
    "## 1. 构造一个线性可分的数据集 "
   ]
  },
  {
   "cell_type": "code",
   "execution_count": 49,
   "metadata": {},
   "outputs": [
    {
     "data": {
      "text/plain": [
       "<matplotlib.collections.PathCollection at 0x1a26b2aa90>"
      ]
     },
     "execution_count": 49,
     "metadata": {},
     "output_type": "execute_result"
    },
    {
     "data": {
      "image/png": "[encoded data removed]",
      "text/plain": [
       "<Figure size 432x288 with 1 Axes>"
      ]
     },
     "metadata": {
      "needs_background": "light"
     },
     "output_type": "display_data"
    }
   ],
   "source": [
    "import matplotlib.pyplot as plt\n",
    "from sklearn.datasets import make_classification\n",
    "\n",
    "x,y = make_classification(n_samples=20, n_features=2, n_informative=2,\n",
    "                          n_redundant=0, n_repeated=0, n_classes=2)\n",
    "\n",
    "for i in range(len(x)):\n",
    "    if -x[i][0]*4+x[i][1]*7+4>=0:\n",
    "        y[i] = 1\n",
    "    else:\n",
    "        y[i] = -1\n",
    "        \n",
    "plt.scatter(x[:,0], x[:,1], c=y, s=7) "
   ]
  },
  {
   "cell_type": "markdown",
   "metadata": {},
   "source": [
    "## 2. 感知机的原始形式"
   ]
  },
  {
   "cell_type": "code",
   "execution_count": 24,
   "metadata": {},
   "outputs": [
    {
     "name": "stdout",
     "output_type": "stream",
     "text": [
      "tensor([-0.1519,  0.2645]) tensor(0.1000)\n"
     ]
    }
   ],
   "source": [
    "import torch\n",
    "import torch.nn as nn\n",
    "import torch.nn.functional as F\n",
    "\n",
    "def preceptron_original(x, y, lr):\n",
    "    x = torch.from_numpy(x).type(torch.FloatTensor)\n",
    "    y = torch.from_numpy(y).type(torch.FloatTensor)\n",
    "    \n",
    "    w = torch.zeros(x.size()[1]).type(torch.FloatTensor)\n",
    "    b = torch.tensor(0).type(torch.FloatTensor)\n",
    "    \n",
    "    while True:\n",
    "        flag = True\n",
    "        \n",
    "        for i in range(x.size()[0]):\n",
    "            xi = x[i]\n",
    "            yi = y[i]\n",
    "            fi = F.linear(w, xi, b)\n",
    "            \n",
    "            if(yi*fi<=0):\n",
    "                flag = False\n",
    "                w = w+lr*yi*xi\n",
    "                b = b+lr*yi\n",
    "                break\n",
    "        \n",
    "        if flag:\n",
    "            break\n",
    "    \n",
    "    return w, b\n",
    "\n",
    "w, b = preceptron_original(x, y, 0.1)\n",
    "print(w,b)\n",
    "\n",
    "plt.scatter(x[:,0], x[:,1], c=y, s=7) "
   ]
  },
  {
   "cell_type": "code",
   "execution_count": 29,
   "metadata": {},
   "outputs": [
    {
     "data": {
      "image/png": "[encoded data removed]",
      "text/plain": [
       "<Figure size 432x288 with 1 Axes>"
      ]
     },
     "metadata": {
      "needs_background": "light"
     },
     "output_type": "display_data"
    }
   ],
   "source": [
    "import numpy as np\n",
    "\n",
    "def draw_sep(x, y, w, b):\n",
    "    def lineFunction(x):\n",
    "        res = -(b+w[0]*x)/w[1]\n",
    "        return res\n",
    "    \n",
    "    x_min, x_max = x[:, 0].min() - .5, x[:, 0].max() + .5\n",
    "    sx = np.arange(x_min, x_max, 0.1)\n",
    "    \n",
    "    plt.scatter(x[:,0], x[:,1], c=y, s=7) \n",
    "    plt.plot(sx, lineFunction(sx))\n",
    "    plt.show()\n",
    "    \n",
    "    return\n",
    "\n",
    "draw_sep(x, y, w, b)"
   ]
  },
  {
   "cell_type": "markdown",
   "metadata": {},
   "source": [
    "## 3. 感知机的对偶形式"
   ]
  },
  {
   "cell_type": "code",
   "execution_count": 72,
   "metadata": {},
   "outputs": [
    {
     "data": {
      "text/plain": [
       "(tensor([-0.1519,  0.2645]), tensor(0.0100))"
      ]
     },
     "execution_count": 72,
     "metadata": {},
     "output_type": "execute_result"
    }
   ],
   "source": [
    "def preceptron_dual(x, y, lr):\n",
    "    x = torch.from_numpy(x).type(torch.FloatTensor)\n",
    "    y = torch.from_numpy(y).type(torch.FloatTensor)\n",
    "    \n",
    "    def calGram(x):\n",
    "        gram = []\n",
    "        \n",
    "        \n",
    "        for i in range(x.size()[0]):\n",
    "            gramm = []\n",
    "            for j in range(x.size()[0]):\n",
    "                gramm.append(F.linear(x[i],x[j]))\n",
    "            gram.append(gramm)\n",
    "        \n",
    "        return gram\n",
    "    \n",
    "    gram = calGram(x)\n",
    "    \n",
    "    alpha = torch.zeros(x.size()[0]).type(torch.FloatTensor)\n",
    "    b = torch.tensor(0).type(torch.FloatTensor)\n",
    "    \n",
    "    while True:\n",
    "        flag = True\n",
    "        \n",
    "        for i in range(x.size()[0]):\n",
    "            xi = x[i]\n",
    "            yi = y[i]\n",
    "            \n",
    "            fi = b\n",
    "            for j in range(x.size()[0]):\n",
    "                fi = fi + alpha[j]*y[j]*gram[i][j]\n",
    "            \n",
    "            if(yi*fi<=0):\n",
    "                flag = False\n",
    "                alpha[i] = alpha[i]+lr\n",
    "                b = b+lr*yi\n",
    "                break\n",
    "        \n",
    "        if flag:\n",
    "            break\n",
    "    \n",
    "    w = torch.zeros(x.size()[1]).type(torch.FloatTensor)\n",
    "    for i in range(x.size()[0]):\n",
    "        xi = x[i]\n",
    "        yi = y[i]\n",
    "        w = w + alpha[i]*yi\n",
    "            \n",
    "    return alpha, b\n",
    "\n",
    "preceptron_dual(x, y, 0.01)"
   ]
  },
  {
   "cell_type": "code",
   "execution_count": 47,
   "metadata": {},
   "outputs": [
    {
     "data": {
      "text/plain": [
       "torch.Size([2, 2, 1])"
      ]
     },
     "execution_count": 47,
     "metadata": {},
     "output_type": "execute_result"
    }
   ],
   "source": [
    "def draw_sep_dual(x, y, w, b):\n",
    "    def lineFunction(x):\n",
    "        res = -(b+w[0]*x)/w[1]\n",
    "        return res\n",
    "    \n",
    "    x_min, x_max = x[:, 0].min() - .5, x[:, 0].max() + .5\n",
    "    sx = np.arange(x_min, x_max, 0.1)\n",
    "    \n",
    "    plt.scatter(x[:,0], x[:,1], c=y, s=7) \n",
    "    plt.plot(sx, lineFunction(sx))\n",
    "    plt.show()\n",
    "    \n",
    "    return\n",
    "\n",
    "draw_sep(x, y, w, b)"
   ]
  },
  {
   "cell_type": "code",
   "execution_count": null,
   "metadata": {},
   "outputs": [],
   "source": []
  }
 ],
 "metadata": {
  "kernelspec": {
   "display_name": "Python [conda env:data_env_37]",
   "language": "python",
   "name": "conda-env-data_env_37-py"
  },
  "language_info": {
   "codemirror_mode": {
    "name": "ipython",
    "version": 3
   },
   "file_extension": ".py",
   "mimetype": "text/x-python",
   "name": "python",
   "nbconvert_exporter": "python",
   "pygments_lexer": "ipython3",
   "version": "3.7.7"
  }
 },
 "nbformat": 4,
 "nbformat_minor": 4
}
